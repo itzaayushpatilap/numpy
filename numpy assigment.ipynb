{
 "cells": [
  {
   "cell_type": "code",
   "execution_count": 4,
   "id": "2a886429-5f78-400d-be2a-8b0ed40a098f",
   "metadata": {},
   "outputs": [],
   "source": [
    "import numpy as np\n"
   ]
  },
  {
   "cell_type": "code",
   "execution_count": 5,
   "id": "3300cbcf-fc5a-409c-990b-9a11fcab9cf6",
   "metadata": {},
   "outputs": [],
   "source": [
    "list_ = [ 1 , 2 , 3 , 4 , 5 ]\n",
    "array_list = np.array(object = list_)\n"
   ]
  },
  {
   "cell_type": "code",
   "execution_count": 6,
   "id": "5beab826-a039-4fd9-b1b8-abb5d60ca335",
   "metadata": {},
   "outputs": [],
   "source": [
    "# Q1. Is there any difference in the data type of variables list_ and array_list? If there is then write a code\n",
    "# to print the data types of both the variables."
   ]
  },
  {
   "cell_type": "code",
   "execution_count": 9,
   "id": "988b2e35-ff8b-4be0-9b43-23acd7ba55ac",
   "metadata": {},
   "outputs": [],
   "source": [
    "#ans  Yes, there is a difference in the data type of the list_ and array_list variables. The list_ is a regular\n",
    "#     Python list containing string elements, while array_list is a NumPy array. The elements in the NumPy array \n",
    "#     are of type string as well, but the array itself has a specific data type that NumPy assigns."
   ]
  },
  {
   "cell_type": "code",
   "execution_count": 10,
   "id": "9a774db8-4b91-47db-862c-6bbb3028ccb8",
   "metadata": {},
   "outputs": [
    {
     "data": {
      "text/plain": [
       "dtype('int64')"
      ]
     },
     "execution_count": 10,
     "metadata": {},
     "output_type": "execute_result"
    }
   ],
   "source": [
    "array_list.dtype"
   ]
  },
  {
   "cell_type": "code",
   "execution_count": 11,
   "id": "9c8b9784-e3e9-4503-bc7d-35100cb87ded",
   "metadata": {},
   "outputs": [
    {
     "data": {
      "text/plain": [
       "list"
      ]
     },
     "execution_count": 11,
     "metadata": {},
     "output_type": "execute_result"
    }
   ],
   "source": [
    "type(list_)"
   ]
  },
  {
   "cell_type": "markdown",
   "id": "6db08735-0b89-42e3-a87b-8e760bdeb52f",
   "metadata": {},
   "source": [
    "Write a code to print the data type of each and every element of both the variables list_ and\n",
    "arra_list."
   ]
  },
  {
   "cell_type": "code",
   "execution_count": 12,
   "id": "a939b4fa-9432-488a-9c6c-bebb2b760f8b",
   "metadata": {},
   "outputs": [
    {
     "data": {
      "text/plain": [
       "[1, 2, 3, 4, 5]"
      ]
     },
     "execution_count": 12,
     "metadata": {},
     "output_type": "execute_result"
    }
   ],
   "source": [
    "list_"
   ]
  },
  {
   "cell_type": "code",
   "execution_count": 13,
   "id": "14c145ba-ad27-4005-8486-06e33b01f0fc",
   "metadata": {},
   "outputs": [
    {
     "data": {
      "text/plain": [
       "array([1, 2, 3, 4, 5])"
      ]
     },
     "execution_count": 13,
     "metadata": {},
     "output_type": "execute_result"
    }
   ],
   "source": [
    "array_list"
   ]
  },
  {
   "cell_type": "code",
   "execution_count": 23,
   "id": "7fd2e093-d8f0-4b44-8f4d-84e9c9c6842c",
   "metadata": {},
   "outputs": [
    {
     "data": {
      "text/plain": [
       "dtype('int64')"
      ]
     },
     "execution_count": 23,
     "metadata": {},
     "output_type": "execute_result"
    }
   ],
   "source": [
    "array_list.dtype"
   ]
  },
  {
   "cell_type": "code",
   "execution_count": 26,
   "id": "d35d2dae-f56c-4798-9018-5374c652b0a1",
   "metadata": {},
   "outputs": [
    {
     "data": {
      "text/plain": [
       "list"
      ]
     },
     "execution_count": 26,
     "metadata": {},
     "output_type": "execute_result"
    }
   ],
   "source": [
    "type(list_)"
   ]
  },
  {
   "cell_type": "code",
   "execution_count": 29,
   "id": "c0d31160-530d-48c5-9784-f71b14ac740e",
   "metadata": {},
   "outputs": [
    {
     "name": "stdout",
     "output_type": "stream",
     "text": [
      "<class 'str'>\n",
      "<class 'str'>\n",
      "<class 'str'>\n",
      "<class 'str'>\n",
      "<class 'str'>\n"
     ]
    }
   ],
   "source": [
    "for elem in list_:\n",
    "    print(type(elem))"
   ]
  },
  {
   "cell_type": "markdown",
   "id": "0ba41491-c623-46cc-b7f2-7a5c02c72c2e",
   "metadata": {},
   "source": [
    "Q3. Considering the following changes in the variable, array_list:\n",
    "\n",
    "Will there be any difference in the data type of the elements present in both the variables, list_ and\n",
    "arra_list? If so then print the data types of each and every element present in both the variables, list_\n",
    "and arra_list."
   ]
  },
  {
   "cell_type": "code",
   "execution_count": 30,
   "id": "b3fb64b7-f5cd-4fef-bef7-94318ea7e8ee",
   "metadata": {},
   "outputs": [],
   "source": [
    "array_list = np.array(object = list_, dtype = int)"
   ]
  },
  {
   "cell_type": "code",
   "execution_count": 31,
   "id": "73b8654d-98a4-4b13-8d51-ba08019f5d0d",
   "metadata": {},
   "outputs": [
    {
     "data": {
      "text/plain": [
       "['1', '2', '3', '4', '5']"
      ]
     },
     "execution_count": 31,
     "metadata": {},
     "output_type": "execute_result"
    }
   ],
   "source": [
    "list_"
   ]
  },
  {
   "cell_type": "code",
   "execution_count": 33,
   "id": "3f57971c-8e59-47d0-8c8d-6b3a3a90fa96",
   "metadata": {},
   "outputs": [
    {
     "data": {
      "text/plain": [
       "array([1, 2, 3, 4, 5])"
      ]
     },
     "execution_count": 33,
     "metadata": {},
     "output_type": "execute_result"
    }
   ],
   "source": [
    "array_list"
   ]
  },
  {
   "cell_type": "markdown",
   "id": "e13bdd51-f611-4d55-a3dd-1627f59fd852",
   "metadata": {},
   "source": [
    "Consider the below code to answer further questions:"
   ]
  },
  {
   "cell_type": "code",
   "execution_count": 34,
   "id": "f53517c1-7f65-4055-b97c-ef83be728df5",
   "metadata": {},
   "outputs": [],
   "source": [
    "import numpy as np\n",
    "num_list = [ [ 1 , 2 , 3 ] , [ 4 , 5 , 6 ] ]\n",
    "num_array = np.array(object = num_list)"
   ]
  },
  {
   "cell_type": "raw",
   "id": "240d8897-b485-43a4-9819-a5e473bd3b56",
   "metadata": {},
   "source": [
    "Q4. Write a code to find the following characteristics of variable, num_array:\n",
    "(i) shape\n",
    "(ii) size"
   ]
  },
  {
   "cell_type": "code",
   "execution_count": 36,
   "id": "b2070b70-6805-4f6f-ba11-d00b7ff3eca8",
   "metadata": {},
   "outputs": [
    {
     "data": {
      "text/plain": [
       "(2, 3)"
      ]
     },
     "execution_count": 36,
     "metadata": {},
     "output_type": "execute_result"
    }
   ],
   "source": [
    "num_array.shape\n"
   ]
  },
  {
   "cell_type": "code",
   "execution_count": 37,
   "id": "5dc1f87c-d3d1-4a88-93a3-02ccc885acf6",
   "metadata": {},
   "outputs": [
    {
     "data": {
      "text/plain": [
       "6"
      ]
     },
     "execution_count": 37,
     "metadata": {},
     "output_type": "execute_result"
    }
   ],
   "source": [
    "num_array.size"
   ]
  },
  {
   "cell_type": "markdown",
   "id": "34a6a07e-63be-4186-b3ed-4e7a07a9c676",
   "metadata": {},
   "source": [
    "Q5. Write a code to create numpy array of 3*3 matrix containing zeros only, using a numpy array\n",
    "creation function."
   ]
  },
  {
   "cell_type": "code",
   "execution_count": 44,
   "id": "c07e7e78-47bb-46ac-aae3-daf4b78bd223",
   "metadata": {},
   "outputs": [],
   "source": [
    "arr1 = np.random.randint(0,1 , (3,3))"
   ]
  },
  {
   "cell_type": "code",
   "execution_count": 45,
   "id": "d538dfbc-ed4a-4bca-a6c4-dbe2b595a5a3",
   "metadata": {},
   "outputs": [
    {
     "data": {
      "text/plain": [
       "array([[0, 0, 0],\n",
       "       [0, 0, 0],\n",
       "       [0, 0, 0]])"
      ]
     },
     "execution_count": 45,
     "metadata": {},
     "output_type": "execute_result"
    }
   ],
   "source": [
    "arr1"
   ]
  },
  {
   "cell_type": "raw",
   "id": "7ba8899d-653c-41f5-8eb8-9b0a880fdf9d",
   "metadata": {},
   "source": [
    "Q6. Create an identity matrix of shape (5,5) using numpy functions?\n",
    "[Hint: An identity matrix is a matrix containing 1 diagonally and other elements will be 0.]"
   ]
  },
  {
   "cell_type": "code",
   "execution_count": 47,
   "id": "9e8c8ce0-3b53-4407-820a-8c23c6446f4a",
   "metadata": {},
   "outputs": [],
   "source": [
    "Data1 = np.array([1,1,1,1,1])"
   ]
  },
  {
   "cell_type": "code",
   "execution_count": null,
   "id": "fff7e7ca-6d10-4136-a099-a19b091ea6dc",
   "metadata": {},
   "outputs": [],
   "source": [
    "np.diag"
   ]
  }
 ],
 "metadata": {
  "kernelspec": {
   "display_name": "Python 3 (ipykernel)",
   "language": "python",
   "name": "python3"
  },
  "language_info": {
   "codemirror_mode": {
    "name": "ipython",
    "version": 3
   },
   "file_extension": ".py",
   "mimetype": "text/x-python",
   "name": "python",
   "nbconvert_exporter": "python",
   "pygments_lexer": "ipython3",
   "version": "3.10.8"
  }
 },
 "nbformat": 4,
 "nbformat_minor": 5
}
